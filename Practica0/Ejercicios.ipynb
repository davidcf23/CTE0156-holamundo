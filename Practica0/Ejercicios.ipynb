{
 "cells": [
  {
   "cell_type": "code",
   "execution_count": 8,
   "metadata": {},
   "outputs": [],
   "source": [
    "##EJERCICIOS"
   ]
  },
  {
   "cell_type": "code",
   "execution_count": 4,
   "metadata": {},
   "outputs": [
    {
     "name": "stdout",
     "output_type": "stream",
     "text": [
      "Actividad: trabajo\n",
      "Tareas: ['programar', 'estudiar']\n",
      "Actividad: cocinar\n",
      "Tareas: ['sopa', 'spaguetti']\n",
      "Actividad: comprar\n",
      "Tareas: ['leche', 'frejoles']\n",
      "Actividad: dormir\n",
      "Tareas: ['limon', 'ajo']\n"
     ]
    }
   ],
   "source": [
    "lunes={\"trabajo\" : ['programar', 'estudiar'],\n",
    "       \"cocinar\":['sopa', 'spaguetti'],\n",
    "       \"comprar\":['leche', 'frejoles'],\n",
    "       \"dormir\": ['limon', 'ajo']}\n",
    "for i in lunes:\n",
    "    print(\"Actividad: \" + i)\n",
    "    print(\"Tareas: \"+ str(lunes[i]))"
   ]
  },
  {
   "cell_type": "code",
   "execution_count": null,
   "metadata": {},
   "outputs": [],
   "source": []
  }
 ],
 "metadata": {
  "kernelspec": {
   "display_name": "Python 3",
   "language": "python",
   "name": "python3"
  },
  "language_info": {
   "codemirror_mode": {
    "name": "ipython",
    "version": 3
   },
   "file_extension": ".py",
   "mimetype": "text/x-python",
   "name": "python",
   "nbconvert_exporter": "python",
   "pygments_lexer": "ipython3",
   "version": "3.8.2"
  }
 },
 "nbformat": 4,
 "nbformat_minor": 4
}
